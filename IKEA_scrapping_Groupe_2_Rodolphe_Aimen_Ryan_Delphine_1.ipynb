{
 "cells": [
  {
   "cell_type": "markdown",
   "id": "89436e3e",
   "metadata": {},
   "source": [
    "# IKEA scrapping Groupe 2"
   ]
  },
  {
   "cell_type": "markdown",
   "id": "db4a82f6",
   "metadata": {},
   "source": [
    "## installation librairies"
   ]
  },
  {
   "cell_type": "code",
   "execution_count": 6,
   "id": "81bc4090",
   "metadata": {},
   "outputs": [
    {
     "name": "stderr",
     "output_type": "stream",
     "text": [
      "ERROR: Could not find a version that satisfies the requirement pprint\n",
      "ERROR: No matching distribution found for pprint\n"
     ]
    },
    {
     "name": "stdout",
     "output_type": "stream",
     "text": [
      "Requirement already satisfied: requests in c:\\users\\rodolphe\\anaconda3\\lib\\site-packages (2.25.1)\n",
      "Requirement already satisfied: idna<3,>=2.5 in c:\\users\\rodolphe\\anaconda3\\lib\\site-packages (from requests) (2.10)\n",
      "Requirement already satisfied: chardet<5,>=3.0.2 in c:\\users\\rodolphe\\anaconda3\\lib\\site-packages (from requests) (4.0.0)\n",
      "Requirement already satisfied: urllib3<1.27,>=1.21.1 in c:\\users\\rodolphe\\anaconda3\\lib\\site-packages (from requests) (1.26.4)\n",
      "Requirement already satisfied: certifi>=2017.4.17 in c:\\users\\rodolphe\\anaconda3\\lib\\site-packages (from requests) (2020.12.5)\n",
      "Requirement already satisfied: bs4 in c:\\users\\rodolphe\\anaconda3\\lib\\site-packages (0.0.1)\n",
      "Requirement already satisfied: beautifulsoup4 in c:\\users\\rodolphe\\anaconda3\\lib\\site-packages (from bs4) (4.9.3)\n",
      "Requirement already satisfied: soupsieve>1.2 in c:\\users\\rodolphe\\anaconda3\\lib\\site-packages (from beautifulsoup4->bs4) (2.2.1)\n"
     ]
    }
   ],
   "source": [
    "!pip install pprint\n",
    "!pip install requests\n",
    "!pip install bs4\n",
    "from pprint import pprint\n",
    "import requests\n",
    "from bs4 import BeautifulSoup\n",
    "import numpy as np\n",
    "import pandas as pd"
   ]
  },
  {
   "cell_type": "markdown",
   "id": "6914b419",
   "metadata": {},
   "source": [
    "## QUESTION 1 : Quel type de produit est proposé chez Ikea ?  "
   ]
  },
  {
   "cell_type": "code",
   "execution_count": 9,
   "id": "1babb67b",
   "metadata": {},
   "outputs": [
    {
     "name": "stdout",
     "output_type": "stream",
     "text": [
      "['Animalerie' 'Appareils électroniques'\n",
      " 'Arts de la table, vaisselle et ustensiles de cuisine' 'Buanderie'\n",
      " 'Bébé et enfant' 'Cuisine et électroménager'\n",
      " 'Domotique et objets connectés' 'Décoration'\n",
      " 'Epicerie suédoise et Restauration' 'Linge de maison et textile'\n",
      " 'Lits et matelas' 'Luminaires et éclairage' 'Meubles'\n",
      " \"Mobilier et accessoires d'extérieur\" 'Noël'\n",
      " 'Personnalisation et entretien' \"Place à l'été !\"\n",
      " 'Plantes, cache-pots et supports' 'Rangement' 'Salle de bain'\n",
      " 'Tapis et paillasson' 'Travailler de la maison']\n"
     ]
    }
   ],
   "source": [
    "url = \"https://www.ikea.com/fr/fr/cat/produits-products/\"\n",
    "html = requests.get(url)\n",
    "soup = BeautifulSoup(html.content, \"lxml\")\n",
    "type = []\n",
    "typeNet = []\n",
    "##on récupère tous les span dans la la div de navigation (titre des types de produit)\n",
    "for li in soup.select(\".plp-navigation-slot-wrapper\")[0].findAll(\"span\"):\n",
    "    ## on inclue le titre dans la liste \"type\"\n",
    "    type.append(li.get_text().strip()); \n",
    "\n",
    "## on supprime les valeurs nulles de la liste créer  \n",
    "typeNet = np.delete(np.unique(type),[0],None);\n",
    "## affichage\n",
    "print( typeNet)"
   ]
  },
  {
   "cell_type": "markdown",
   "id": "df11327c",
   "metadata": {},
   "source": [
    "## QUESTION 2 : Quel est le nombre d'articles par sous-catégorie dans les produits canapé ?"
   ]
  },
  {
   "cell_type": "code",
   "execution_count": 13,
   "id": "52b5de61",
   "metadata": {},
   "outputs": [
    {
     "name": "stdout",
     "output_type": "stream",
     "text": [
      "443\n"
     ]
    }
   ],
   "source": [
    "## On récupère les données grâce à l’url\n",
    "url = \"https://www.ikea.com/fr/fr/cat/canapes-fu003/\"\n",
    "html = requests.get(url)\n",
    "soup = BeautifulSoup(html.content, \"lxml\")\n",
    "## On récupère le total d’articles  (canapés) grâce à une classe puis on l’affiche\n",
    "total_product_canape = soup.select('.catalog-product-list__total-count')\n",
    "print(total_product_canape[0].get_text().strip().split()[3])"
   ]
  },
  {
   "cell_type": "markdown",
   "id": "18941dbc",
   "metadata": {},
   "source": [
    "## QUESTION 3 :Quel est le prix moyen d'un canapé ?"
   ]
  },
  {
   "cell_type": "code",
   "execution_count": 11,
   "id": "f5dac43b",
   "metadata": {},
   "outputs": [
    {
     "name": "stdout",
     "output_type": "stream",
     "text": [
      "500.41379310344826 522\n"
     ]
    }
   ],
   "source": [
    "## On initialise les variables qui vont nous permettre de répondre à la question \n",
    "pages = np.arange(1, 19, 1)\n",
    "total_price = 0\n",
    "nombre_produits = 0\n",
    "\n",
    "## On boucle sur toutes les pages pour récupérer tous les canapés \n",
    "for page in pages:\n",
    "    url = \"https://www.ikea.com/fr/fr/cat/canapes-fu003/?page=\" + str(page)\n",
    "    html = requests.get(url)\n",
    "    soup = BeautifulSoup(html.text, 'html.parser')\n",
    "    ## On récupère la balise qui nous affiche le prix des canapés \n",
    "    prix_moyen_canape = soup.select('.range-revamp-price__integer')\n",
    "    ## On boucle sur tous les canapés \n",
    "    for price in prix_moyen_canape:\n",
    "        total_price += int(price.get_text().strip().replace(\" \", \"\"))\n",
    "        nombre_produits += 1\n",
    "\n",
    "## On calcule la moyenne\n",
    "moyenne_prix = total_price/nombre_produits\n",
    "\n",
    "## On affiche la moyenne plus le nombres de canapés récupérés \n",
    "print(moyenne_prix, nombre_produits)"
   ]
  },
  {
   "cell_type": "markdown",
   "id": "1203c2bf",
   "metadata": {},
   "source": [
    "## QUESTION 4 : Quel est la série de canapés le plus produit par Ikea ?"
   ]
  },
  {
   "cell_type": "code",
   "execution_count": 10,
   "id": "217b8813",
   "metadata": {},
   "outputs": [
    {
     "data": {
      "text/plain": [
       "FRIHETEN      90\n",
       "SÖDERHAMN     72\n",
       "GRÖNLID       54\n",
       "VIMLE         54\n",
       "ASKEBY        36\n",
       "EKTORP        36\n",
       "ÄPPLARYD      18\n",
       "KLIPPAN       18\n",
       "HAMMARN       18\n",
       "LANDSKRONA    18\n",
       "SLATORP       18\n",
       "KIVIK         18\n",
       "LINANÄS       18\n",
       "GRÄLVIKEN     18\n",
       "ASARUM        18\n",
       "dtype: int64"
      ]
     },
     "execution_count": 10,
     "metadata": {},
     "output_type": "execute_result"
    }
   ],
   "source": [
    "pages = np.arange(1, 19, 1)\n",
    "categories = []\n",
    "## on boucle sur les pages de 1 à 19 afin de récupérer l'intégralité des canapés\n",
    "for page in pages:\n",
    "    url = \"https://www.ikea.com/fr/fr/cat/canapes-fu003/?page=\" + str(page)\n",
    "    html = requests.get(url)\n",
    "    soup = BeautifulSoup(html.text, 'html.parser')\n",
    "    ## on récupère toutes les div comprenant les titres de séries des 19 pages\n",
    "    serie_div = soup.select('.range-revamp-header-section__title--small')\n",
    "\n",
    "    ## on ajoute tous les éléments dans un tableau\n",
    "    for serie in serie_div:\n",
    "        categories.append(serie.get_text().strip())\n",
    "\n",
    "## on ordonne les séries de canapé par le nombre d'éléments trouvés\n",
    "total_series = pd.Series(categories)\n",
    "total_series.value_counts()"
   ]
  },
  {
   "cell_type": "code",
   "execution_count": null,
   "id": "2d46bfb0",
   "metadata": {},
   "outputs": [],
   "source": []
  }
 ],
 "metadata": {
  "kernelspec": {
   "display_name": "Python 3",
   "language": "python",
   "name": "python3"
  },
  "language_info": {
   "codemirror_mode": {
    "name": "ipython",
    "version": 3
   },
   "file_extension": ".py",
   "mimetype": "text/x-python",
   "name": "python",
   "nbconvert_exporter": "python",
   "pygments_lexer": "ipython3",
   "version": "3.8.8"
  }
 },
 "nbformat": 4,
 "nbformat_minor": 5
}
